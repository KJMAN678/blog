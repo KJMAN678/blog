{
 "cells": [
  {
   "cell_type": "code",
   "execution_count": 2,
   "metadata": {},
   "outputs": [],
   "source": [
    "import pprint"
   ]
  },
  {
   "cell_type": "code",
   "execution_count": 3,
   "metadata": {},
   "outputs": [],
   "source": [
    "# 辞書型のデータの作成\n",
    "dic = {\n",
    "            'C134':{\"price\":30,\"sales\":\"1000\",\"profit\":200 ,\"alist\":[110,20,30 ,50]}, \n",
    "            'C623':{\"price\":80,\"sales\":\"100\" ,\"profit\":6   ,\"alist\":[100,10,30 ,50]},\n",
    "            'C430':{\"price\":70,\"sales\":\"5000\",\"profit\":1000,\"alist\":[160,11,120,6]},\n",
    "            'C115':{\"price\":10,\"sales\":\"2400\",\"profit\":40  ,\"alist\":[80 , 1,10 ,6]}\n",
    "        }"
   ]
  },
  {
   "cell_type": "code",
   "execution_count": 4,
   "metadata": {},
   "outputs": [
    {
     "data": {
      "text/plain": [
       "{'C134': {'price': 30,\n",
       "  'sales': '1000',\n",
       "  'profit': 200,\n",
       "  'alist': [110, 20, 30, 50]},\n",
       " 'C623': {'price': 80,\n",
       "  'sales': '100',\n",
       "  'profit': 6,\n",
       "  'alist': [100, 10, 30, 50]},\n",
       " 'C430': {'price': 70,\n",
       "  'sales': '5000',\n",
       "  'profit': 1000,\n",
       "  'alist': [160, 11, 120, 6]},\n",
       " 'C115': {'price': 10, 'sales': '2400', 'profit': 40, 'alist': [80, 1, 10, 6]}}"
      ]
     },
     "execution_count": 4,
     "metadata": {},
     "output_type": "execute_result"
    }
   ],
   "source": [
    "# データ名をそのまま　ただしこの後に他のコードを入力すると出力されない\n",
    "dic"
   ]
  },
  {
   "cell_type": "code",
   "execution_count": 5,
   "metadata": {},
   "outputs": [
    {
     "name": "stdout",
     "output_type": "stream",
     "text": [
      "{'C134': {'price': 30, 'sales': '1000', 'profit': 200, 'alist': [110, 20, 30, 50]}, 'C623': {'price': 80, 'sales': '100', 'profit': 6, 'alist': [100, 10, 30, 50]}, 'C430': {'price': 70, 'sales': '5000', 'profit': 1000, 'alist': [160, 11, 120, 6]}, 'C115': {'price': 10, 'sales': '2400', 'profit': 40, 'alist': [80, 1, 10, 6]}}\n"
     ]
    }
   ],
   "source": [
    "# print()\n",
    "print(dic)"
   ]
  },
  {
   "cell_type": "code",
   "execution_count": 6,
   "metadata": {},
   "outputs": [
    {
     "name": "stdout",
     "output_type": "stream",
     "text": [
      "{'C115': {'alist': [80, 1, 10, 6], 'price': 10, 'profit': 40, 'sales': '2400'},\n",
      " 'C134': {'alist': [110, 20, 30, 50],\n",
      "          'price': 30,\n",
      "          'profit': 200,\n",
      "          'sales': '1000'},\n",
      " 'C430': {'alist': [160, 11, 120, 6],\n",
      "          'price': 70,\n",
      "          'profit': 1000,\n",
      "          'sales': '5000'},\n",
      " 'C623': {'alist': [100, 10, 30, 50], 'price': 80, 'profit': 6, 'sales': '100'}}\n"
     ]
    }
   ],
   "source": [
    "# pprint()\n",
    "pprint.pprint(dic)"
   ]
  },
  {
   "cell_type": "code",
   "execution_count": 7,
   "metadata": {},
   "outputs": [
    {
     "name": "stdout",
     "output_type": "stream",
     "text": [
      "{'C134': {'price': 30,\n",
      "          'sales': '1000',\n",
      "          'profit': 200,\n",
      "          'alist': [110, 20, 30, 50]},\n",
      " 'C623': {'price': 80, 'sales': '100', 'profit': 6, 'alist': [100, 10, 30, 50]},\n",
      " 'C430': {'price': 70,\n",
      "          'sales': '5000',\n",
      "          'profit': 1000,\n",
      "          'alist': [160, 11, 120, 6]},\n",
      " 'C115': {'price': 10, 'sales': '2400', 'profit': 40, 'alist': [80, 1, 10, 6]}}\n"
     ]
    }
   ],
   "source": [
    "# pprint() で 並び替えをしない場合 バージョン 3.8 で追加\n",
    "# https://docs.python.org/ja/3/library/pprint.html\n",
    "pprint.pprint(dic, sort_dicts = False)"
   ]
  },
  {
   "cell_type": "code",
   "execution_count": null,
   "metadata": {},
   "outputs": [],
   "source": []
  }
 ],
 "metadata": {
  "kernelspec": {
   "display_name": "Python 3",
   "language": "python",
   "name": "python3"
  },
  "language_info": {
   "codemirror_mode": {
    "name": "ipython",
    "version": 3
   },
   "file_extension": ".py",
   "mimetype": "text/x-python",
   "name": "python",
   "nbconvert_exporter": "python",
   "pygments_lexer": "ipython3",
   "version": "3.8.2"
  }
 },
 "nbformat": 4,
 "nbformat_minor": 4
}
